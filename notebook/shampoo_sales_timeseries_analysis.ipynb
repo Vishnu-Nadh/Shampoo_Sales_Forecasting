{
 "cells": [
  {
   "cell_type": "code",
   "execution_count": null,
   "metadata": {},
   "outputs": [],
   "source": [
    "import pandas as pd\n",
    "import numpy as np"
   ]
  },
  {
   "cell_type": "code",
   "execution_count": null,
   "metadata": {},
   "outputs": [],
   "source": [
    "data = pd.read_csv(\"https://raw.githubusercontent.com/blue-yonder/pydse/master/pydse/data/sales-of-shampoo-over-a-three-ye.csv\")\n",
    "data.head()\n",
    "# data.describe()"
   ]
  },
  {
   "cell_type": "code",
   "execution_count": null,
   "metadata": {},
   "outputs": [],
   "source": [
    "def convertToDate(string):\n",
    "    datestr = string.split(';')[0]\n",
    "    year = str(int(datestr.split('-')[0]) + 2018)\n",
    "    month = datestr.split('-')[1]\n",
    "    return year + '-' + month\n",
    "\n",
    "data[\"Month\"] = data['Month;\"Sales\"'].apply(convertToDate)\n",
    "data[\"Sales\"] = data['Month;\"Sales\"'].apply(lambda x : x.split(\";\")[1])\n",
    "dta = data.drop('Month;\"Sales\"', axis=1)\n",
    "dta"
   ]
  },
  {
   "cell_type": "code",
   "execution_count": null,
   "metadata": {},
   "outputs": [],
   "source": [
    "data"
   ]
  },
  {
   "cell_type": "code",
   "execution_count": null,
   "metadata": {},
   "outputs": [],
   "source": [
    "from datetime import datetime\n",
    "dta[\"Month\"] = dta[\"Month\"].apply(lambda x:datetime.strptime(x, \"%Y-%m\"))"
   ]
  },
  {
   "cell_type": "code",
   "execution_count": null,
   "metadata": {},
   "outputs": [],
   "source": [
    "dta"
   ]
  },
  {
   "cell_type": "code",
   "execution_count": null,
   "metadata": {},
   "outputs": [],
   "source": [
    "df = dta.copy()\n",
    "df.set_index(df[\"Month\"], inplace=True)\n",
    "df = df.drop(\"Month\", axis = True).astype(float)\n",
    "df"
   ]
  },
  {
   "cell_type": "code",
   "execution_count": null,
   "metadata": {},
   "outputs": [],
   "source": [
    "import matplotlib.pyplot as plt\n",
    "fig = plt.figure(figsize=(15, 5))\n",
    "fig.patch.set_facecolor(\"white\")\n",
    "fig.add_subplot(111)\n",
    "plt.plot(df)\n",
    "plt.show()\n"
   ]
  },
  {
   "cell_type": "code",
   "execution_count": null,
   "metadata": {},
   "outputs": [],
   "source": [
    "from statsmodels.tsa.stattools import adfuller\n",
    "result = adfuller(df[\"Sales\"])\n",
    "# H0 : Data is not stationary\n",
    "# H1 : Data is stationary\n",
    "\n",
    "\n",
    "def adfuller_test(sales):\n",
    "    result = adfuller(sales)\n",
    "    labels = [\"adfuller test statistics\", \"p value\", \"lags used\", 'Number of observations used']\n",
    "    for value, label in zip(result, labels):\n",
    "        print(label+ \" : \"+ str(value))\n",
    "    if result[1] <= 0.05:\n",
    "        print(\"Reject null hypothesis. data is stationary\")\n",
    "    else:\n",
    "        print(\"Accept null hypothesis. data is non stationary\")\n",
    "            \n",
    "adfuller_test(df[\"Sales\"])"
   ]
  },
  {
   "cell_type": "code",
   "execution_count": null,
   "metadata": {},
   "outputs": [],
   "source": [
    "# Defferencing\n",
    "df[\"first difference\"] = df['Sales'] - df[\"Sales\"].shift(1)\n",
    "df"
   ]
  },
  {
   "cell_type": "code",
   "execution_count": null,
   "metadata": {},
   "outputs": [],
   "source": [
    "adfuller_test(df[\"first difference\"].dropna())"
   ]
  },
  {
   "cell_type": "code",
   "execution_count": null,
   "metadata": {},
   "outputs": [],
   "source": [
    "df[\"first difference\"].dropna().plot()"
   ]
  },
  {
   "cell_type": "code",
   "execution_count": null,
   "metadata": {},
   "outputs": [],
   "source": [
    "from statsmodels.graphics.tsaplots import plot_acf, plot_pacf\n",
    "\n",
    "fig = plt.figure(figsize=(12,8))\n",
    "fig.patch.set_facecolor(\"white\")\n",
    "ax1 = fig.add_subplot(211)\n",
    "fig = plot_acf(df[\"first difference\"].dropna(), lags = 16, ax = ax1)\n",
    "ax1 = fig.add_subplot(212)\n",
    "fig = plot_pacf(df[\"first difference\"].dropna(), lags = 16, ax = ax1)"
   ]
  },
  {
   "cell_type": "code",
   "execution_count": null,
   "metadata": {},
   "outputs": [],
   "source": [
    "# d = 1 one seasonal differencing done\n",
    "dt = df[\"Sales\"].dropna()\n",
    "from statsmodels.tsa.arima.model import ARIMA\n",
    "model = ARIMA(dt, order=(10,1,1))\n",
    "fittedmodel = model.fit()\n",
    "# fit_model.summary()\n",
    "fittedmodel.params"
   ]
  },
  {
   "cell_type": "markdown",
   "metadata": {},
   "source": []
  },
  {
   "cell_type": "code",
   "execution_count": null,
   "metadata": {},
   "outputs": [],
   "source": [
    "import statsmodels.api as sm\n",
    "print(fittedmodel.aic, fittedmodel.bic, fittedmodel.hqic)"
   ]
  },
  {
   "cell_type": "code",
   "execution_count": null,
   "metadata": {},
   "outputs": [],
   "source": [
    "dw_test_value = sm.stats.durbin_watson(fittedmodel.resid.values)\n",
    "dw_test_value\n"
   ]
  },
  {
   "cell_type": "code",
   "execution_count": null,
   "metadata": {},
   "outputs": [],
   "source": [
    "# plot residuals\n",
    "fig = plt.figure(figsize=(12,6))\n",
    "fig.patch.set_facecolor('white')\n",
    "ax = fig.add_subplot(111)\n",
    "fig = fittedmodel.resid.plot(ax= ax)"
   ]
  },
  {
   "cell_type": "code",
   "execution_count": null,
   "metadata": {},
   "outputs": [],
   "source": [
    "from scipy import stats\n",
    "resids = fittedmodel.resid\n",
    "stats.normaltest(resids)\n"
   ]
  },
  {
   "cell_type": "code",
   "execution_count": null,
   "metadata": {},
   "outputs": [],
   "source": [
    "from statsmodels.graphics.api import qqplot\n",
    "\n",
    "%matplotlib inline\n",
    "fig = plt.figure(figsize=(12,8))\n",
    "ax = fig.add_subplot(111)\n",
    "fig = qqplot(resids, line='q', ax=ax, fit=True)"
   ]
  },
  {
   "cell_type": "code",
   "execution_count": null,
   "metadata": {},
   "outputs": [],
   "source": [
    "prediction = fittedmodel.predict(\"2021-01-01\", \"2021-12-01\", dynamic=True)\n",
    "prediction"
   ]
  },
  {
   "cell_type": "code",
   "execution_count": null,
   "metadata": {},
   "outputs": [],
   "source": [
    "fig = plt.figure(figsize=(15,8))\n",
    "fig.patch.set_facecolor(\"w\")\n",
    "ax = fig.add_subplot(111)\n",
    "ax = plt.plot(dt)\n",
    "ax = plt.plot(prediction)\n",
    "plt.legend()\n",
    "plt.show()\n"
   ]
  },
  {
   "cell_type": "code",
   "execution_count": null,
   "metadata": {},
   "outputs": [],
   "source": [
    "# find the best model\n",
    "p_values = [10,11,12,14,15,16]\n",
    "sums = []\n",
    "for p in p_values:\n",
    "    dt = df[\"Sales\"].dropna()\n",
    "    from statsmodels.tsa.arima.model import ARIMA\n",
    "    model = ARIMA(dt, order=(p,1,1))\n",
    "    fittedmodel = model.fit()\n",
    "    sum = fittedmodel.aic + fittedmodel.bic + fittedmodel.hqic\n",
    "    sums.append(sum)\n",
    "    # fit_model.summary()\n",
    "    "
   ]
  },
  {
   "cell_type": "code",
   "execution_count": null,
   "metadata": {},
   "outputs": [],
   "source": [
    "print(p_values)\n",
    "print(sums)"
   ]
  },
  {
   "cell_type": "code",
   "execution_count": null,
   "metadata": {},
   "outputs": [],
   "source": [
    "# set p = 14\n",
    "dt = df[\"Sales\"].dropna()\n",
    "from statsmodels.tsa.arima.model import ARIMA\n",
    "model = ARIMA(dt, order=(14,1,1))\n",
    "fittedmodel = model.fit()\n",
    "\n",
    "prediction = fittedmodel.predict(\"2021-01-01\", \"2021-12-01\", dynamic=True)\n",
    "\n",
    "fig = plt.figure(figsize=(15,8))\n",
    "fig.patch.set_facecolor(\"w\")\n",
    "ax = fig.add_subplot(111)\n",
    "ax = plt.plot(dt)\n",
    "ax = plt.plot(prediction)\n",
    "plt.legend()\n",
    "plt.show()\n",
    "\n"
   ]
  },
  {
   "cell_type": "code",
   "execution_count": null,
   "metadata": {},
   "outputs": [],
   "source": [
    "import pickle\n",
    "file_dir = open(\"model/arima.pickle\", \"wb\")\n",
    "pickle.dump(fittedmodel, file_dir)"
   ]
  },
  {
   "cell_type": "code",
   "execution_count": null,
   "metadata": {},
   "outputs": [],
   "source": [
    "import pickle\n",
    "model_file = open(\"model/arima.pickle\", \"rb\")\n",
    "model = pickle.load(model_file)\n",
    "predvals = model.predict(\"2021-1\", \"2022-12\", dynamic=True)\n",
    "predvals"
   ]
  },
  {
   "cell_type": "code",
   "execution_count": null,
   "metadata": {},
   "outputs": [],
   "source": [
    "predvals_ = pd.DataFrame({\"Date\": predvals.index, \"Sales Prediction\":predvals.values})"
   ]
  },
  {
   "cell_type": "code",
   "execution_count": null,
   "metadata": {},
   "outputs": [],
   "source": [
    "\n",
    "predvals_.to_csv(\"Result/sample.csv\", index=False)"
   ]
  },
  {
   "cell_type": "code",
   "execution_count": null,
   "metadata": {},
   "outputs": [],
   "source": []
  }
 ],
 "metadata": {
  "interpreter": {
   "hash": "4c8ad78c9a981b59280c493a4ab329f40621c434f8302daf430f7dea1ab887ca"
  },
  "kernelspec": {
   "display_name": "Python 3.8.12 ('timeseries')",
   "language": "python",
   "name": "python3"
  },
  "language_info": {
   "codemirror_mode": {
    "name": "ipython",
    "version": 3
   },
   "file_extension": ".py",
   "mimetype": "text/x-python",
   "name": "python",
   "nbconvert_exporter": "python",
   "pygments_lexer": "ipython3",
   "version": "3.7.11"
  },
  "orig_nbformat": 4
 },
 "nbformat": 4,
 "nbformat_minor": 2
}
